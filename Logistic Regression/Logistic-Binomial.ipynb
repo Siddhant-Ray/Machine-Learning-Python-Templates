{
 "cells": [
  {
   "cell_type": "code",
   "execution_count": 42,
   "metadata": {
    "collapsed": true
   },
   "outputs": [],
   "source": [
    "import csv\n",
    "import numpy as np\n",
    "import matplotlib.pyplot as plt\n",
    " \n",
    " \n",
    "def loadCSV(filename):\n",
    "    '''\n",
    "    function to load dataset\n",
    "    '''\n",
    "    with open(filename,\"r\") as csvfile:\n",
    "        lines = csv.reader(csvfile)\n",
    "        dataset = list(lines)\n",
    "        for i in range(len(dataset)):\n",
    "            dataset[i] = [float(x) for x in dataset[i]]     \n",
    "    return np.array(dataset)"
   ]
  },
  {
   "cell_type": "code",
   "execution_count": 43,
   "metadata": {
    "collapsed": true
   },
   "outputs": [],
   "source": [
    "def normalize(X):\n",
    "    '''\n",
    "    function to normalize feature matrix, X\n",
    "    '''\n",
    "    mins = np.min(X, axis = 0)\n",
    "    maxs = np.max(X, axis = 0)\n",
    "    rng = maxs - mins\n",
    "    norm_X = 1 - ((maxs - X)/rng)\n",
    "    return norm_X"
   ]
  },
  {
   "cell_type": "code",
   "execution_count": 44,
   "metadata": {
    "collapsed": true
   },
   "outputs": [],
   "source": [
    "def logistic_func(beta, X):\n",
    "    '''\n",
    "    logistic(sigmoid) function\n",
    "    '''\n",
    "    return 1.0/(1 + np.exp(-np.dot(X, beta.T)))\n",
    " \n",
    " \n",
    "def log_gradient(beta, X, y):\n",
    "    '''\n",
    "    logistic gradient function\n",
    "    '''\n",
    "    first_calc = logistic_func(beta, X) - y.reshape(X.shape[0], -1)\n",
    "    final_calc = np.dot(first_calc.T, X)\n",
    "    return final_calc\n",
    " \n",
    " \n",
    "def cost_func(beta, X, y):\n",
    "    '''\n",
    "    cost function, J\n",
    "    '''\n",
    "    log_func_v = logistic_func(beta, X)\n",
    "    y = np.squeeze(y)\n",
    "    step1 = y * np.log(log_func_v)\n",
    "    step2 = (1 - y) * np.log(1 - log_func_v)\n",
    "    final = -step1 - step2\n",
    "    return np.mean(final)"
   ]
  },
  {
   "cell_type": "code",
   "execution_count": 45,
   "metadata": {
    "collapsed": true
   },
   "outputs": [],
   "source": [
    "def grad_desc(X, y, beta, lr=.01, converge_change=.001):\n",
    "    '''\n",
    "    gradient descent function\n",
    "    '''\n",
    "    cost = cost_func(beta, X, y)\n",
    "    change_cost = 1\n",
    "    num_iter = 1\n",
    "     \n",
    "    while(change_cost > converge_change):\n",
    "        old_cost = cost\n",
    "        beta = beta - (lr * log_gradient(beta, X, y))\n",
    "        cost = cost_func(beta, X, y)\n",
    "        change_cost = old_cost - cost\n",
    "        num_iter += 1\n",
    "     \n",
    "    return beta, num_iter \n",
    " \n",
    " \n",
    "def pred_values(beta, X):\n",
    "    '''\n",
    "    function to predict labels\n",
    "    '''\n",
    "    pred_prob = logistic_func(beta, X)\n",
    "    pred_value = np.where(pred_prob >= .5, 1, 0)\n",
    "    return np.squeeze(pred_value)"
   ]
  },
  {
   "cell_type": "code",
   "execution_count": 46,
   "metadata": {},
   "outputs": [],
   "source": [
    "def plot_reg(X, y, beta):\n",
    "    '''\n",
    "    function to plot decision boundary\n",
    "    '''\n",
    "    # labelled observations\n",
    "    x_0 = X[np.where(y == 0.0)]\n",
    "    x_1 = X[np.where(y == 1.0)]\n",
    "     \n",
    "    # plotting points with diff color for diff label\n",
    "    plt.scatter([x_0[:, 1]], [x_0[:, 2]], c='b', label='y = 0')\n",
    "    plt.scatter([x_1[:, 1]], [x_1[:, 2]], c='r', label='y = 1')\n",
    "     \n",
    "    # plotting decision boundary\n",
    "    x1 = np.arange(0, 1, 0.1)\n",
    "    x2 = -(beta[0,0] + beta[0,1]*x1)/beta[0,2]\n",
    "    plt.plot(x1, x2, c='k', label='reg line')\n",
    " \n",
    "    plt.xlabel('x1')\n",
    "    plt.ylabel('x2')\n",
    "    plt.legend()\n",
    "    plt.show()"
   ]
  },
  {
   "cell_type": "code",
   "execution_count": null,
   "metadata": {
    "collapsed": true
   },
   "outputs": [],
   "source": []
  },
  {
   "cell_type": "code",
   "execution_count": 47,
   "metadata": {},
   "outputs": [
    {
     "name": "stdout",
     "output_type": "stream",
     "text": [
      "Estimated regression coefficients: [[-0.1922798   0.92920793 -0.92580837]]\n",
      "No. of iterations: 144\n",
      "Correctly predicted labels: 57\n"
     ]
    },
    {
     "data": {
      "image/png": "[encoded data removed]",
      "text/plain": [
       "<matplotlib.figure.Figure at 0x20c28172eb8>"
      ]
     },
     "metadata": {},
     "output_type": "display_data"
    }
   ],
   "source": [
    "if __name__ == \"__main__\":\n",
    "    # load the dataset\n",
    "    dataset = loadCSV('dataset1.csv')\n",
    "     \n",
    "    # normalizing feature matrix\n",
    "    X = normalize(dataset[:, :-1])\n",
    "     \n",
    "    # stacking columns wth all ones in feature matrix\n",
    "    X = np.hstack((np.matrix(np.ones(X.shape[0])).T, X))\n",
    " \n",
    "    # response vector\n",
    "    y = dataset[:, -1]\n",
    " \n",
    "    # initial beta values\n",
    "    beta = np.matrix(np.zeros(X.shape[1]))\n",
    " \n",
    "    # beta values after running gradient descent\n",
    "    beta, num_iter = grad_desc(X, y, beta)\n",
    " \n",
    "    # estimated beta values and number of iterations\n",
    "    print(\"Estimated regression coefficients:\", beta)\n",
    "    print(\"No. of iterations:\", num_iter)\n",
    " \n",
    "    # predicted labels\n",
    "    y_pred = pred_values(beta, X)\n",
    "     \n",
    "    # number of correctly predicted labels\n",
    "    print(\"Correctly predicted labels:\", np.sum(y == y_pred))\n",
    "    \n",
    "    #percentage accuracy of prediction\n",
    "    \n",
    "    p=sum(y_pred)\n",
    "     \n",
    "    # plotting regression line\n",
    "    plot_reg(X, y, beta)"
   ]
  },
  {
   "cell_type": "code",
   "execution_count": 53,
   "metadata": {},
   "outputs": [
    {
     "name": "stdout",
     "output_type": "stream",
     "text": [
      "Logistic Regression model accuracy(in %): 95.6884561892\n"
     ]
    },
    {
     "data": {
      "image/png": "[encoded data removed]",
      "text/plain": [
       "<matplotlib.figure.Figure at 0x20c2abfb5f8>"
      ]
     },
     "metadata": {},
     "output_type": "display_data"
    }
   ],
   "source": [
    "from sklearn import datasets, linear_model, metrics\n",
    "  \n",
    "# load the digit dataset\n",
    "digits = datasets.load_digits()\n",
    "  \n",
    "# defining feature matrix(X) and response vector(y)\n",
    "X = digits.data\n",
    "y = digits.target\n",
    " \n",
    "# splitting X and y into training and testing sets\n",
    "from sklearn.model_selection import train_test_split\n",
    "X_train, X_test, y_train, y_test = train_test_split(X, y, test_size=0.4,\n",
    "                                                    random_state=1)\n",
    "  \n",
    "# create logistic regression object\n",
    "reg = linear_model.LogisticRegression()\n",
    "  \n",
    "# train the model using the training sets\n",
    "reg.fit(X_train, y_train)\n",
    "\n",
    "# making pr\n",
    " \n",
    "# making predictions on the testing set\n",
    "y_pred = reg.predict(X_test)\n",
    "  \n",
    "# comparing actual response values (y_test) with predicted response values (y_pred)\n",
    "print(\"Logistic Regression model accuracy(in %):\", \n",
    "metrics.accuracy_score(y_test, y_pred)*100)\n",
    "\n",
    "\n"
   ]
  },
  {
   "cell_type": "code",
   "execution_count": null,
   "metadata": {
    "collapsed": true
   },
   "outputs": [],
   "source": []
  }
 ],
 "metadata": {
  "kernelspec": {
   "display_name": "Python 3",
   "language": "python",
   "name": "python3"
  },
  "language_info": {
   "codemirror_mode": {
    "name": "ipython",
    "version": 3
   },
   "file_extension": ".py",
   "mimetype": "text/x-python",
   "name": "python",
   "nbconvert_exporter": "python",
   "pygments_lexer": "ipython3",
   "version": "3.6.1"
  }
 },
 "nbformat": 4,
 "nbformat_minor": 2
}
