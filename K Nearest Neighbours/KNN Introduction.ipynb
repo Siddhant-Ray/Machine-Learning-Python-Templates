{
 "cells": [
  {
   "cell_type": "code",
   "execution_count": 1,
   "metadata": {
    "collapsed": true
   },
   "outputs": [],
   "source": [
    "import math "
   ]
  },
  {
   "cell_type": "code",
   "execution_count": 13,
   "metadata": {},
   "outputs": [],
   "source": [
    "def ClassifyAPoint(points,p,k=3):\n",
    "    '''\n",
    "     This function finds classification of p using\n",
    "     k nearest neighbour algorithm. It assumes only two\n",
    "     groups and returns 0 if p belongs to group 0, else\n",
    "      1 (belongs to group 1).\n",
    " \n",
    "      Parameters - \n",
    "          points : Dictionary of training points having two keys - 0 and 1\n",
    "                   Each key have a list of training data points belong to that \n",
    " \n",
    "          p : A tuple ,test data point of form (x,y)\n",
    " \n",
    "          k : number of nearest neighbour to consider, default is 3 \n",
    "    '''\n",
    "    distance=[]\n",
    "    for group in points:\n",
    "        for feature in points[group]:\n",
    "            euclid_distance=math.sqrt((feature[0]-p[0])**2+(feature[1]-p[1])**2)\n",
    "            distance.append((euclid_distance,group))\n",
    "            \n",
    "    distance=sorted(distance)[:k]\n",
    "    \n",
    "    frq1=0\n",
    "    frq2=0\n",
    "    \n",
    "    for d in distance:\n",
    "        if(d[1])==0:\n",
    "            frq1+=1\n",
    "        elif(d[1])==1:\n",
    "            frq2+=1\n",
    "    \n",
    "    if(frq1>frq2):\n",
    "        return 0\n",
    "    else:\n",
    "        return 1\n",
    "    \n",
    "            \n",
    "            "
   ]
  },
  {
   "cell_type": "code",
   "execution_count": 15,
   "metadata": {},
   "outputs": [
    {
     "name": "stdout",
     "output_type": "stream",
     "text": [
      "The value classified to unknown point is: 1\n"
     ]
    }
   ],
   "source": [
    "def main():\n",
    " \n",
    "    # key 0 have points belong to class 0\n",
    "    # key 1 have points belong to class 1\n",
    " \n",
    "    points = {0:[(1,12),(2,5),(3,6),(3,10),(3.5,8),(2,11),(2,9),(1,7)],\n",
    "              1:[(5,3),(3,2),(1.5,9),(7,2),(6,1),(3.8,1),(5.6,4),(4,2),(2,5)]}\n",
    " \n",
    "    # testing point p(x,y)\n",
    "    p = (5,2)\n",
    " \n",
    "    # Number of neighbours \n",
    "    k = 3\n",
    " \n",
    "    print(\"The value classified to unknown point is: {}\".\\\n",
    "          format(ClassifyAPoint(points,p,k)))\n",
    " \n",
    "if __name__ == '__main__':\n",
    "    main()"
   ]
  },
  {
   "cell_type": "code",
   "execution_count": null,
   "metadata": {
    "collapsed": true
   },
   "outputs": [],
   "source": []
  }
 ],
 "metadata": {
  "kernelspec": {
   "display_name": "Python 3",
   "language": "python",
   "name": "python3"
  },
  "language_info": {
   "codemirror_mode": {
    "name": "ipython",
    "version": 3
   },
   "file_extension": ".py",
   "mimetype": "text/x-python",
   "name": "python",
   "nbconvert_exporter": "python",
   "pygments_lexer": "ipython3",
   "version": "3.6.1"
  }
 },
 "nbformat": 4,
 "nbformat_minor": 2
}
